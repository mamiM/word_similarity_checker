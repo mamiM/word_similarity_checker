{
 "cells": [
  {
   "cell_type": "code",
   "execution_count": 21,
   "id": "3270c066-7b5d-4ece-bddc-de90ac46f6a1",
   "metadata": {},
   "outputs": [],
   "source": [
    "from sentence_transformers import SentenceTransformer, util\n",
    "\n",
    "model = SentenceTransformer('distiluse-base-multilingual-cased-v2')"
   ]
  },
  {
   "cell_type": "code",
   "execution_count": 22,
   "id": "a82fa229-a9da-46dd-b297-8f71294edd3c",
   "metadata": {},
   "outputs": [],
   "source": [
    "word_ja = \"猫\"  # Japanese for \"cat\"\n",
    "word_en = \"cat\""
   ]
  },
  {
   "cell_type": "code",
   "execution_count": 23,
   "id": "5575c1b1-f275-444a-b5fa-39213936ba62",
   "metadata": {},
   "outputs": [
    {
     "name": "stdout",
     "output_type": "stream",
     "text": [
      "Similarity between '猫' and 'cat': 0.9851\n"
     ]
    }
   ],
   "source": [
    "# Convert to embeddings\n",
    "embedding_ja = model.encode(word_ja, convert_to_tensor=True)\n",
    "embedding_en = model.encode(word_en, convert_to_tensor=True)\n",
    "\n",
    "# Calculate similarity\n",
    "similarity = util.cos_sim(embedding_ja, embedding_en)\n",
    "\n",
    "print(f\"Similarity between '{word_ja}' and '{word_en}': {similarity.item():.4f}\")"
   ]
  },
  {
   "cell_type": "code",
   "execution_count": 24,
   "id": "c509e762-e040-4557-95b0-7391e7b59613",
   "metadata": {},
   "outputs": [
    {
     "name": "stdout",
     "output_type": "stream",
     "text": [
      "dog: 0.7035\n",
      "tiger: 0.6595\n",
      "lion: 0.5943\n",
      "computer: 0.4330\n",
      "banana: 0.4193\n"
     ]
    }
   ],
   "source": [
    "words = [\"dog\", \"tiger\", \"lion\", \"banana\", \"computer\"]\n",
    "results = []\n",
    "\n",
    "for w in words:\n",
    "    emb = model.encode(w, convert_to_tensor=True)\n",
    "    sim = util.cos_sim(embedding_ja, emb)\n",
    "    results.append((w, sim.item()))\n",
    "\n",
    "results.sort(key=lambda x: x[1], reverse=True)\n",
    "for word, score in results:\n",
    "    print(f\"{word}: {score:.4f}\")\n"
   ]
  },
  {
   "cell_type": "code",
   "execution_count": 29,
   "id": "49ef0bd6-10b4-4f57-8af0-6083a970e312",
   "metadata": {},
   "outputs": [
    {
     "name": "stdin",
     "output_type": "stream",
     "text": [
      "Type a sentence:  kitchen\n"
     ]
    }
   ],
   "source": [
    "your_input = input(\"Type a sentence: \")"
   ]
  },
  {
   "cell_type": "code",
   "execution_count": 37,
   "id": "cbc45370-8080-464d-9512-c2814a1fd048",
   "metadata": {},
   "outputs": [
    {
     "name": "stdout",
     "output_type": "stream",
     "text": [
      "dog and kitchen: 0.4421\n",
      "computer and kitchen: 0.3923\n",
      "banana and kitchen: 0.2852\n",
      "tiger and kitchen: 0.2788\n",
      "lion and kitchen: 0.2692\n"
     ]
    }
   ],
   "source": [
    "# Convert your input into an embedding\n",
    "\n",
    "emb_input = model.encode(your_input, convert_to_tensor=True)\n",
    "\n",
    "#Clear the former reslts to start a new comparison\n",
    "results.clear()\n",
    "for w in words:\n",
    "    emb = model.encode(w, convert_to_tensor=True)\n",
    "    sim = util.cos_sim(emb_input, emb)\n",
    "    results.append((w, sim.item()))\n",
    "\n",
    "results.sort(key=lambda x: x[1], reverse=True)\n",
    "for word, score in results:\n",
    "    print(f\"{word} and {your_input}: {score:.4f}\")\n"
   ]
  },
  {
   "cell_type": "code",
   "execution_count": 27,
   "id": "598c4475-b3b1-429d-b7b3-36c349831e90",
   "metadata": {},
   "outputs": [
    {
     "ename": "SyntaxError",
     "evalue": "incomplete input (1041174835.py, line 4)",
     "output_type": "error",
     "traceback": [
      "  \u001b[36mCell\u001b[39m\u001b[36m \u001b[39m\u001b[32mIn[27]\u001b[39m\u001b[32m, line 4\u001b[39m\n\u001b[31m    \u001b[39m\u001b[31mresults.append((w, sim.item())\u001b[39m\n                                  ^\n\u001b[31mSyntaxError\u001b[39m\u001b[31m:\u001b[39m incomplete input\n"
     ]
    }
   ],
   "source": []
  },
  {
   "cell_type": "code",
   "execution_count": null,
   "id": "da6967b8-348e-46c7-b4c1-1b6422d8c630",
   "metadata": {},
   "outputs": [],
   "source": []
  }
 ],
 "metadata": {
  "kernelspec": {
   "display_name": "Python (.venv)",
   "language": "python",
   "name": "myvenv"
  },
  "language_info": {
   "codemirror_mode": {
    "name": "ipython",
    "version": 3
   },
   "file_extension": ".py",
   "mimetype": "text/x-python",
   "name": "python",
   "nbconvert_exporter": "python",
   "pygments_lexer": "ipython3",
   "version": "3.12.7"
  }
 },
 "nbformat": 4,
 "nbformat_minor": 5
}
